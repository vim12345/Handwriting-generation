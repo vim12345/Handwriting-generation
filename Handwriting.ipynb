{
  "nbformat": 4,
  "nbformat_minor": 0,
  "metadata": {
    "colab": {
      "provenance": []
    },
    "kernelspec": {
      "name": "python3",
      "display_name": "Python 3"
    },
    "language_info": {
      "name": "python"
    }
  },
  "cells": [
    {
      "cell_type": "code",
      "execution_count": null,
      "metadata": {
        "id": "MPhfdTX1jchM"
      },
      "outputs": [],
      "source": [
        "!pip install handwriting-synthesis\n"
      ]
    },
    {
      "cell_type": "code",
      "source": [
        "from handwriting_synthesis import HandwritingGenerator\n",
        "import matplotlib.pyplot as plt\n",
        ""
      ],
      "metadata": {
        "id": "zIPRR1aKj5uy"
      },
      "execution_count": null,
      "outputs": []
    },
    {
      "cell_type": "code",
      "source": [
        "# 1. Load the pre-trained Handwriting Generation model\n",
        "generator = HandwritingGenerator()\n",
        ""
      ],
      "metadata": {
        "id": "EieEoDPgj7tU"
      },
      "execution_count": null,
      "outputs": []
    },
    {
      "cell_type": "code",
      "source": [
        "# 2. Define the input text you want to generate handwriting for\n",
        "input_text = \"Hello, this is a handwritten text generation example!\""
      ],
      "metadata": {
        "id": "Hps9oYmVj9Wt"
      },
      "execution_count": null,
      "outputs": []
    },
    {
      "cell_type": "code",
      "source": [
        "# 3. Generate handwritten text image\n",
        "handwritten_image = generator.generate(input_text)\n",
        ""
      ],
      "metadata": {
        "id": "nyqM4z5pj_EC"
      },
      "execution_count": null,
      "outputs": []
    },
    {
      "cell_type": "code",
      "source": [
        "# 4. Display the generated handwriting\n",
        "plt.imshow(handwritten_image, cmap='gray')\n",
        "plt.axis('off')  # Hide axes for better visualization\n",
        "plt.title(f\"Handwritten Text: {input_text}\")\n",
        "plt.show()"
      ],
      "metadata": {
        "id": "GOlhl2vvkBpU"
      },
      "execution_count": null,
      "outputs": []
    }
  ]
}